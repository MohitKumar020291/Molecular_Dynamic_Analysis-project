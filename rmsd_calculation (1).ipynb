{
 "cells": [
  {
   "cell_type": "markdown",
   "id": "aa50bb1b",
   "metadata": {},
   "source": [
    "## Importing desired modules "
   ]
  },
  {
   "cell_type": "code",
   "execution_count": 1,
   "id": "90892b1e",
   "metadata": {},
   "outputs": [],
   "source": [
    "import MDAnalysis as mda\n",
    "\n",
    "# IMPORTING DATAFILES \n",
    "from MDAnalysis.tests.datafiles import PSF, PDB, DCD"
   ]
  },
  {
   "cell_type": "markdown",
   "id": "9f3b305f",
   "metadata": {},
   "source": [
    "### Key Points \n",
    "&bull; \"from\" keyword is for importing python modules. Have python installed.       \n",
    "&bull; Datefiles are must. They are simply the ball and MDAnalysis is a bat. It means that the atoms in these datafiles are used for calculations.    \n",
    "&bull; There are lots of datafiles available for analysis , follow the source for more information : User guide MDAnalysis and Quickstart MDAnalysis.      \n",
    "&bull; Talking about our dataFiles. We are majorly focusing on formats. PDB (Protein Data Bank) is a file format used for storing the three-dimensional structures of biomolecules such as proteins, nucleic acids, and complex assemblies and DCD (Distributed Coordinate) is a file format used to store the trajectory data of a molecular simulation.       "
   ]
  },
  {
   "cell_type": "markdown",
   "id": "30f52117",
   "metadata": {},
   "source": [
    "## Loading and Manipulating PDB and DCD file using MDAnalysis"
   ]
  },
  {
   "cell_type": "markdown",
   "id": "edf54c0f",
   "metadata": {},
   "source": [
    "### Some key points before starting\n",
    "&bull; Working with MDAnalysis typically starts with loading data into a universe(this is simple our universe which is assumed with the help of datafiles), for more information : https://userguide.mdanalysis.org/stable/universe.html   \n",
    "&bull; Loading data into Universe. For this task we use topology file. A topology file can then be followed by any number of trajectory files. A trajectory file contains a list of coordinates in the order defined in the topology. If no trajectory files are given, then only a structure is loaded. If multiple trajectory files are given, the trajectories are concatenated in the given order. MDAnalysis accepts single frames (e.g. PDB, CRD, GRO) and timeseries data (e.g. DCD, XTC, TRR, XYZ).   \n",
    "&bull; Universe object is typically created by reading trajectory(XTC or DCD file) and topology file(PDB or GRO)    \n",
    "&bull; The trajectory attribute of a Universe is usually a file reader.  "
   ]
  },
  {
   "cell_type": "code",
   "execution_count": 2,
   "id": "697f9a35",
   "metadata": {},
   "outputs": [
    {
     "name": "stderr",
     "output_type": "stream",
     "text": [
      "C:\\Users\\HP\\AppData\\Roaming\\Python\\Python39\\site-packages\\MDAnalysis\\core\\universe.py:147: UserWarning: No coordinate reader found for C:\\Users\\HP\\AppData\\Roaming\\Python\\Python39\\site-packages\\MDAnalysisTests\\data\\adk.psf. Skipping this file.\n",
      "  warnings.warn('No coordinate reader found for {}. Skipping '\n"
     ]
    }
   ],
   "source": [
    "psf = mda.Universe(PSF)"
   ]
  },
  {
   "cell_type": "code",
   "execution_count": 3,
   "id": "ec27d1a8",
   "metadata": {},
   "outputs": [
    {
     "name": "stdout",
     "output_type": "stream",
     "text": [
      "<Universe with 3341 atoms>\n",
      "98\n"
     ]
    },
    {
     "name": "stderr",
     "output_type": "stream",
     "text": [
      "C:\\Users\\HP\\AppData\\Roaming\\Python\\Python39\\site-packages\\MDAnalysis\\coordinates\\DCD.py:165: DeprecationWarning: DCDReader currently makes independent timesteps by copying self.ts while other readers update self.ts inplace. This behavior will be changed in 3.0 to be the same as other readers. Read more at https://github.com/MDAnalysis/mdanalysis/issues/3889 to learn if this change in behavior might affect you.\n",
      "  warnings.warn(\"DCDReader currently makes independent timesteps\"\n"
     ]
    }
   ],
   "source": [
    "u = mda.Universe(PSF, DCD)\n",
    "print(u)\n",
    "print(len(u.trajectory))\n",
    "\n",
    "# Our universe is u(an instance of Universe class created by passing a DCD file)\n",
    "# and used \"Universe\" class , described above.\n",
    "# Lastly, len(u.trajectory) gives number of frames in the trajectory."
   ]
  },
  {
   "cell_type": "markdown",
   "id": "dc729653",
   "metadata": {},
   "source": [
    "#### Frames: In MDAnalysis, a frame represents the state of the system at a particular point in time during a molecular dynamics simulation. It contains the positions, velocities, and other relevant properties of all the atoms in the system at that point in time. By iterating over frames, we can analyze the behavior of the system over the course of the simulation."
   ]
  },
  {
   "cell_type": "markdown",
   "id": "e46170cf",
   "metadata": {},
   "source": [
    "## There is a section in quickstart called working with the group atoms and selecting atoms, some code from that is of our use."
   ]
  },
  {
   "cell_type": "markdown",
   "id": "da4205d4",
   "metadata": {},
   "source": [
    "&bull; u.atoms which is Atom group. We use this attribute so, that we can create an list of atom object.     \n",
    "&bull; This is very important as we sometimes need to access them(Atoms) in a slice for our analysis.    \n",
    "&bull; Below given a code helps you understanding this."
   ]
  },
  {
   "cell_type": "code",
   "execution_count": 4,
   "id": "c56e8aeb",
   "metadata": {},
   "outputs": [
    {
     "name": "stdout",
     "output_type": "stream",
     "text": [
      "<AtomGroup [<Atom 3337: HA1 of type 6 of resname GLY, resid 214 and segid 4AKE>, <Atom 3338: HA2 of type 6 of resname GLY, resid 214 and segid 4AKE>, <Atom 3339: C of type 32 of resname GLY, resid 214 and segid 4AKE>, <Atom 3340: OT1 of type 72 of resname GLY, resid 214 and segid 4AKE>, <Atom 3341: OT2 of type 72 of resname GLY, resid 214 and segid 4AKE>]>\n"
     ]
    }
   ],
   "source": [
    "last_five = u.atoms[-5:]\n",
    "print(last_five)"
   ]
  },
  {
   "cell_type": "markdown",
   "id": "adfdf6c7",
   "metadata": {},
   "source": [
    "&bull; Many other methods may be used such as numerical range and fancy indexing."
   ]
  },
  {
   "cell_type": "markdown",
   "id": "5c9acbbc",
   "metadata": {},
   "source": [
    "## Analysis for RMSD with benchmarking"
   ]
  },
  {
   "cell_type": "markdown",
   "id": "f50e01ac",
   "metadata": {},
   "source": [
    "<div style=\"color: red; background-color: #ffe6e6; padding: 10px; border: 1px solid #ffb3b3;\">\n",
    "    <strong>Alert! Alert! Alert!</strong>\n",
    "</div>"
   ]
  },
  {
   "cell_type": "markdown",
   "id": "2c653ea3",
   "metadata": {},
   "source": [
    "### The below code will throw an error because of \"ref\" and \"traj\". You need to do that as whole by your own as I do not have access to your system."
   ]
  },
  {
   "cell_type": "markdown",
   "id": "a91d6a28",
   "metadata": {},
   "source": [
    "#### The process to do that"
   ]
  },
  {
   "cell_type": "markdown",
   "id": "5e18b5e1",
   "metadata": {},
   "source": [
    "&bull; To obtain the necessary files for your project, you can either create them yourself or search for them from a reliable source.     \n",
    "&bull;  To create a PDB file, you can use molecular visualization software like PyMOL or VMD to build a structure and save it in PDB format. For a DCD format trajectory file, you can use molecular dynamics simulation software such as GROMACS or NAMD to run a simulation and save the output trajectory in DCD format.    \n",
    "&bull; Alternatively, you can search for the files online from a public database such as the Protein Data Bank (PDB) or the OpenTraj project. Ensure that you comply with any licensing or usage regulations that apply to the files you obtain.   "
   ]
  },
  {
   "cell_type": "code",
   "execution_count": 7,
   "id": "3ffa92d3",
   "metadata": {},
   "outputs": [
    {
     "name": "stdout",
     "output_type": "stream",
     "text": [
      "[0.]\n",
      "Execution time: 2.8826937675476074 seconds\n"
     ]
    },
    {
     "name": "stderr",
     "output_type": "stream",
     "text": [
      "C:\\Users\\HP\\AppData\\Roaming\\Python\\Python39\\site-packages\\MDAnalysis\\analysis\\rms.py:718: DeprecationWarning: The `rmsd` attribute was deprecated in MDAnalysis 2.0.0 and will be removed in MDAnalysis 3.0.0. Please use `results.rmsd` instead.\n",
      "  warnings.warn(wmsg, DeprecationWarning)\n"
     ]
    }
   ],
   "source": [
    "import MDAnalysis as mda\n",
    "from MDAnalysis.analysis import rms\n",
    "\n",
    "import time\n",
    "\n",
    "start_time = time.time()\n",
    "\n",
    "# Load the reference structure and the trajectory\n",
    "ref = mda.Universe('/path/to/ref.pdb')\n",
    "traj = mda.Universe('/path/to/traj.pdb', '/path/to/traj.dcd')\n",
    "\n",
    "# Align trajectory onto the reference\n",
    "aligner = rms.RMSD(traj, ref, select=\"backbone\")\n",
    "aligner.run()\n",
    "\n",
    "# Print the RMSD values\n",
    "print(aligner.rmsd[:, 1])\n",
    "\n",
    "print(\"Execution time: %s seconds\" % (time.time() - start_time))"
   ]
  },
  {
   "cell_type": "markdown",
   "id": "7bc4aaf3",
   "metadata": {},
   "source": [
    "### Explaining the above RMSD code "
   ]
  },
  {
   "cell_type": "markdown",
   "id": "ce4e8925",
   "metadata": {},
   "source": [
    "&bull; This code calculates the root-mean-square deviation (RMSD) between two molecular structures - a reference structure and a trajectory of the same molecule.     \n",
    "&bull;  First, it imports the necessary modules from MDAnalysis: MDAnalysis and the RMSD analysis module.    \n",
    "&bull; Then it creates two Universe objects, one for the reference structure and one for the trajectory, by passing the file paths to the PDB files as arguments to the mda.Universe() function.       \n",
    "&bull; After that, it initializes the RMSD calculator object by passing the trajectory and reference Universe objects to the RMSD() function, and specifying \"backbone\" as the selection, which means only the backbone atoms will be considered.       \n",
    "&bull; It then runs the RMSD calculation using the run() function of the RMSD object.      \n",
    "&bull; Finally, it prints the RMSD values by accessing the rmsd attribute of the RMSD object and specifying the column index to access the RMSD values for the entire trajectory. It also prints the execution time using the time module."
   ]
  },
  {
   "cell_type": "markdown",
   "id": "47a3cf22",
   "metadata": {},
   "source": [
    "#### If the output of aligner.rmsd[:, 1] is [0.], it means that the RMSD values for each frame in the trajectory with respect to the reference structure are all zero. This could be the case if the trajectory and the reference structure are identical, or if the trajectory has already been aligned to the reference structure prior to running this code."
   ]
  },
  {
   "cell_type": "markdown",
   "id": "81b43de5",
   "metadata": {},
   "source": [
    "## Some practice for user"
   ]
  },
  {
   "cell_type": "markdown",
   "id": "841066c7",
   "metadata": {},
   "source": [
    "<div style=\"color: red; background-color: #ffe6e6; padding: 10px; border: 1px solid #ffb3b3;\">\n",
    "    <strong>Same Alert!</strong>\n",
    "</div>"
   ]
  },
  {
   "cell_type": "code",
   "execution_count": null,
   "id": "4ea1a1de",
   "metadata": {},
   "outputs": [],
   "source": [
    "ref_file = input(\"Enter the path to the reference PDB file: \")\n",
    "traj_file = input(\"Enter the path to the trajectory PDB file: \")\n",
    "dcd_file = input(\"Enter the path to the trajectory DCD file: \")\n",
    "\n",
    "ref = mda.Universe(ref_file, topology_format=\"PDB\")\n",
    "traj = mda.Universe(traj_file, dcd_file, format=\"DCD\")\n",
    "\n",
    "aligner = rms.RMSD(traj, ref, select=\"backbone\")\n",
    "aligner.run()\n",
    "\n",
    "print(aligner.rmsd[:, 1])"
   ]
  },
  {
   "cell_type": "markdown",
   "id": "c9e74dd7",
   "metadata": {},
   "source": [
    "### For input the files should exist in your computer, and you should provide the file paths as inputs when running the code."
   ]
  },
  {
   "cell_type": "markdown",
   "id": "feef230f",
   "metadata": {},
   "source": [
    "&bull; The code prompts the user to input the file paths for the reference PDB file, the trajectory PDB file, and the trajectory DCD file.     \n",
    "&bull;  It then creates two molecular universe objects using the mdtraj package: one for the reference structure (ref) and one for the trajectory (traj). The Universe function is used to read in the topology of each file format, and the format and topology_format arguments are used to specify the file formats of the trajectory and reference structures, respectively.     \n",
    "\n",
    "&bull; Next, the code creates an rms.RMSD object called aligner, which is used to align the trajectory onto the reference structure based on the backbone atoms. The run method is then called on the aligner object to perform the alignment.     \n",
    "\n",
    "&bull;  Finally, the code prints out the RMSD values for the aligned trajectory using the rmsd attribute of the aligner object."
   ]
  },
  {
   "cell_type": "code",
   "execution_count": null,
   "id": "5421194d",
   "metadata": {},
   "outputs": [],
   "source": []
  }
 ],
 "metadata": {
  "kernelspec": {
   "display_name": "Python 3 (ipykernel)",
   "language": "python",
   "name": "python3"
  },
  "language_info": {
   "codemirror_mode": {
    "name": "ipython",
    "version": 3
   },
   "file_extension": ".py",
   "mimetype": "text/x-python",
   "name": "python",
   "nbconvert_exporter": "python",
   "pygments_lexer": "ipython3",
   "version": "3.9.13"
  }
 },
 "nbformat": 4,
 "nbformat_minor": 5
}
